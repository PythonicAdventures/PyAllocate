{
 "cells": [
  {
   "cell_type": "code",
   "execution_count": 19,
   "id": "ed90f5cd",
   "metadata": {},
   "outputs": [
    {
     "data": {
      "application/vnd.microsoft.datawrangler.viewer.v0+json": {
       "columns": [
        {
         "name": "index",
         "rawType": "int64",
         "type": "integer"
        },
        {
         "name": "fund_name",
         "rawType": "object",
         "type": "string"
        },
        {
         "name": "sub_group_1",
         "rawType": "float64",
         "type": "float"
        },
        {
         "name": "sub_group_2",
         "rawType": "float64",
         "type": "float"
        },
        {
         "name": "investor_name",
         "rawType": "object",
         "type": "string"
        },
        {
         "name": "classification",
         "rawType": "object",
         "type": "string"
        },
        {
         "name": "break_period",
         "rawType": "datetime64[ns]",
         "type": "datetime"
        },
        {
         "name": "amount",
         "rawType": "int64",
         "type": "integer"
        }
       ],
       "ref": "db7744c8-da35-4462-9a81-c1fcfd3f11ca",
       "rows": [
        [
         "0",
         "ABC_Capital LLC",
         null,
         null,
         "investor_1",
         "contribution",
         "2024-01-01 00:00:00",
         "1250"
        ],
        [
         "1",
         "ABC_Capital LLC",
         null,
         null,
         "investor_2",
         "contribution",
         "2024-01-01 00:00:00",
         "600"
        ],
        [
         "2",
         "ABC_Capital LLC",
         null,
         null,
         "investor_3",
         "contribution",
         "2024-01-01 00:00:00",
         "50000"
        ],
        [
         "3",
         "ABC_Capital LLC",
         null,
         null,
         "investor_3",
         "redemption",
         "2024-12-31 00:00:00",
         "3000"
        ]
       ],
       "shape": {
        "columns": 7,
        "rows": 4
       }
      },
      "text/html": [
       "<div>\n",
       "<style scoped>\n",
       "    .dataframe tbody tr th:only-of-type {\n",
       "        vertical-align: middle;\n",
       "    }\n",
       "\n",
       "    .dataframe tbody tr th {\n",
       "        vertical-align: top;\n",
       "    }\n",
       "\n",
       "    .dataframe thead th {\n",
       "        text-align: right;\n",
       "    }\n",
       "</style>\n",
       "<table border=\"1\" class=\"dataframe\">\n",
       "  <thead>\n",
       "    <tr style=\"text-align: right;\">\n",
       "      <th></th>\n",
       "      <th>fund_name</th>\n",
       "      <th>sub_group_1</th>\n",
       "      <th>sub_group_2</th>\n",
       "      <th>investor_name</th>\n",
       "      <th>classification</th>\n",
       "      <th>break_period</th>\n",
       "      <th>amount</th>\n",
       "    </tr>\n",
       "  </thead>\n",
       "  <tbody>\n",
       "    <tr>\n",
       "      <th>0</th>\n",
       "      <td>ABC_Capital LLC</td>\n",
       "      <td>NaN</td>\n",
       "      <td>NaN</td>\n",
       "      <td>investor_1</td>\n",
       "      <td>contribution</td>\n",
       "      <td>2024-01-01</td>\n",
       "      <td>1250</td>\n",
       "    </tr>\n",
       "    <tr>\n",
       "      <th>1</th>\n",
       "      <td>ABC_Capital LLC</td>\n",
       "      <td>NaN</td>\n",
       "      <td>NaN</td>\n",
       "      <td>investor_2</td>\n",
       "      <td>contribution</td>\n",
       "      <td>2024-01-01</td>\n",
       "      <td>600</td>\n",
       "    </tr>\n",
       "    <tr>\n",
       "      <th>2</th>\n",
       "      <td>ABC_Capital LLC</td>\n",
       "      <td>NaN</td>\n",
       "      <td>NaN</td>\n",
       "      <td>investor_3</td>\n",
       "      <td>contribution</td>\n",
       "      <td>2024-01-01</td>\n",
       "      <td>50000</td>\n",
       "    </tr>\n",
       "    <tr>\n",
       "      <th>3</th>\n",
       "      <td>ABC_Capital LLC</td>\n",
       "      <td>NaN</td>\n",
       "      <td>NaN</td>\n",
       "      <td>investor_3</td>\n",
       "      <td>redemption</td>\n",
       "      <td>2024-12-31</td>\n",
       "      <td>3000</td>\n",
       "    </tr>\n",
       "  </tbody>\n",
       "</table>\n",
       "</div>"
      ],
      "text/plain": [
       "         fund_name  sub_group_1  sub_group_2 investor_name classification  \\\n",
       "0  ABC_Capital LLC          NaN          NaN    investor_1   contribution   \n",
       "1  ABC_Capital LLC          NaN          NaN    investor_2   contribution   \n",
       "2  ABC_Capital LLC          NaN          NaN    investor_3   contribution   \n",
       "3  ABC_Capital LLC          NaN          NaN    investor_3     redemption   \n",
       "\n",
       "  break_period  amount  \n",
       "0   2024-01-01    1250  \n",
       "1   2024-01-01     600  \n",
       "2   2024-01-01   50000  \n",
       "3   2024-12-31    3000  "
      ]
     },
     "execution_count": 19,
     "metadata": {},
     "output_type": "execute_result"
    }
   ],
   "source": [
    "import pandas as pd\n",
    "import numpy as np\n",
    "\n",
    "df = pd.read_excel(r\"C:\\Users\\alexa\\OneDrive\\Documents\\OneDrive\\Python\\Python_Projects\\Alloc_App\\import_data.xlsx\", sheet_name='cap_activity')\n",
    "\n",
    "df"
   ]
  },
  {
   "cell_type": "code",
   "execution_count": 20,
   "id": "d785dfee",
   "metadata": {},
   "outputs": [
    {
     "name": "stderr",
     "output_type": "stream",
     "text": [
      "C:\\Users\\alexa\\AppData\\Local\\Temp\\ipykernel_3508\\2507258173.py:9: FutureWarning: The default value of observed=False is deprecated and will change to observed=True in a future version of pandas. Specify observed=False to silence this warning and retain the current behavior\n",
      "  .pivot_table(index=['fund_name', 'investor_name', 'sub_group_1', 'sub_group_2', 'classification'],\n"
     ]
    },
    {
     "data": {
      "application/vnd.microsoft.datawrangler.viewer.v0+json": {
       "columns": [
        {
         "name": "index",
         "rawType": "int64",
         "type": "integer"
        },
        {
         "name": "fund_name",
         "rawType": "category",
         "type": "unknown"
        },
        {
         "name": "investor_name",
         "rawType": "category",
         "type": "unknown"
        },
        {
         "name": "sub_group_1",
         "rawType": "category",
         "type": "unknown"
        },
        {
         "name": "sub_group_2",
         "rawType": "category",
         "type": "unknown"
        },
        {
         "name": "classification",
         "rawType": "category",
         "type": "unknown"
        },
        {
         "name": "01/01/2024",
         "rawType": "float64",
         "type": "float"
        },
        {
         "name": "12/31/2024",
         "rawType": "float64",
         "type": "float"
        }
       ],
       "ref": "b7904f7a-7634-4cb9-9a61-6d78d879b344",
       "rows": [
        [
         "0",
         "ABC_Capital LLC",
         "investor_1",
         "",
         "",
         "contribution",
         "1250.0",
         "0.0"
        ],
        [
         "1",
         "ABC_Capital LLC",
         "investor_2",
         "",
         "",
         "contribution",
         "600.0",
         "0.0"
        ],
        [
         "2",
         "ABC_Capital LLC",
         "investor_3",
         "",
         "",
         "contribution",
         "50000.0",
         "0.0"
        ]
       ],
       "shape": {
        "columns": 7,
        "rows": 3
       }
      },
      "text/html": [
       "<div>\n",
       "<style scoped>\n",
       "    .dataframe tbody tr th:only-of-type {\n",
       "        vertical-align: middle;\n",
       "    }\n",
       "\n",
       "    .dataframe tbody tr th {\n",
       "        vertical-align: top;\n",
       "    }\n",
       "\n",
       "    .dataframe thead th {\n",
       "        text-align: right;\n",
       "    }\n",
       "</style>\n",
       "<table border=\"1\" class=\"dataframe\">\n",
       "  <thead>\n",
       "    <tr style=\"text-align: right;\">\n",
       "      <th>break_period</th>\n",
       "      <th>fund_name</th>\n",
       "      <th>investor_name</th>\n",
       "      <th>sub_group_1</th>\n",
       "      <th>sub_group_2</th>\n",
       "      <th>classification</th>\n",
       "      <th>01/01/2024</th>\n",
       "      <th>12/31/2024</th>\n",
       "    </tr>\n",
       "  </thead>\n",
       "  <tbody>\n",
       "    <tr>\n",
       "      <th>0</th>\n",
       "      <td>ABC_Capital LLC</td>\n",
       "      <td>investor_1</td>\n",
       "      <td></td>\n",
       "      <td></td>\n",
       "      <td>contribution</td>\n",
       "      <td>1250.0</td>\n",
       "      <td>0.0</td>\n",
       "    </tr>\n",
       "    <tr>\n",
       "      <th>1</th>\n",
       "      <td>ABC_Capital LLC</td>\n",
       "      <td>investor_2</td>\n",
       "      <td></td>\n",
       "      <td></td>\n",
       "      <td>contribution</td>\n",
       "      <td>600.0</td>\n",
       "      <td>0.0</td>\n",
       "    </tr>\n",
       "    <tr>\n",
       "      <th>2</th>\n",
       "      <td>ABC_Capital LLC</td>\n",
       "      <td>investor_3</td>\n",
       "      <td></td>\n",
       "      <td></td>\n",
       "      <td>contribution</td>\n",
       "      <td>50000.0</td>\n",
       "      <td>0.0</td>\n",
       "    </tr>\n",
       "  </tbody>\n",
       "</table>\n",
       "</div>"
      ],
      "text/plain": [
       "break_period        fund_name investor_name sub_group_1 sub_group_2  \\\n",
       "0             ABC_Capital LLC    investor_1                           \n",
       "1             ABC_Capital LLC    investor_2                           \n",
       "2             ABC_Capital LLC    investor_3                           \n",
       "\n",
       "break_period classification  01/01/2024  12/31/2024  \n",
       "0              contribution      1250.0         0.0  \n",
       "1              contribution       600.0         0.0  \n",
       "2              contribution     50000.0         0.0  "
      ]
     },
     "execution_count": 20,
     "metadata": {},
     "output_type": "execute_result"
    }
   ],
   "source": [
    "\n",
    "df_alloc_contrib = (df.assign(fund_name=df['fund_name'].fillna('').astype('category'),\n",
    "                        sub_group_1=df['sub_group_1'].fillna('').astype('category'),\n",
    "                        sub_group_2=df['sub_group_2'].fillna('').astype('category'),\n",
    "                        investor_name=df['investor_name'].fillna('').astype('category'),\n",
    "                        amount=df['amount'].astype(float).fillna(0),\n",
    "                        break_period=pd.to_datetime(df['break_period']).dt.strftime(\"%m/%d/%Y\"),\n",
    "                        classification=df['classification'].fillna('').astype('category')\n",
    "                        )\n",
    "                .pivot_table(index=['fund_name', 'investor_name', 'sub_group_1', 'sub_group_2', 'classification'],\n",
    "                            columns='break_period', values='amount', aggfunc='sum', fill_value=0)\n",
    "                .query('classification == \"contribution\"')\n",
    "                .reset_index()\n",
    "                )\n",
    "\n",
    "df_alloc_contrib\n"
   ]
  }
 ],
 "metadata": {
  "kernelspec": {
   "display_name": "Python 3",
   "language": "python",
   "name": "python3"
  },
  "language_info": {
   "codemirror_mode": {
    "name": "ipython",
    "version": 3
   },
   "file_extension": ".py",
   "mimetype": "text/x-python",
   "name": "python",
   "nbconvert_exporter": "python",
   "pygments_lexer": "ipython3",
   "version": "3.13.5"
  }
 },
 "nbformat": 4,
 "nbformat_minor": 5
}
